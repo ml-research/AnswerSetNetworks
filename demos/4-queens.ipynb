{
 "cells": [
  {
   "cell_type": "markdown",
   "id": "229f9f33",
   "metadata": {},
   "source": [
    "# Imports"
   ]
  },
  {
   "cell_type": "code",
   "execution_count": null,
   "id": "23d27b0a",
   "metadata": {},
   "outputs": [],
   "source": [
    "import torch\n",
    "from asn.asn import ASN"
   ]
  },
  {
   "cell_type": "markdown",
   "id": "f9620abb",
   "metadata": {},
   "source": [
    "### Initialize CUDA"
   ]
  },
  {
   "cell_type": "code",
   "execution_count": null,
   "id": "9a20a8cc",
   "metadata": {},
   "outputs": [],
   "source": [
    "device = torch.device('cuda' if torch.cuda.is_available() else 'cpu')\n",
    "print(device)"
   ]
  },
  {
   "cell_type": "markdown",
   "id": "af208021",
   "metadata": {},
   "source": [
    "# Program"
   ]
  },
  {
   "cell_type": "code",
   "execution_count": null,
   "id": "efef09d8",
   "metadata": {},
   "outputs": [],
   "source": [
    "# parse program\n",
    "prog_str = r'''\n",
    "n(0). n(1). n(2). n(3).\n",
    "\n",
    "% choose a column for each row\n",
    "1={q(X,0);q(X,1);q(X,2);q(X,3)} :- n(X).\n",
    "\n",
    "% no column overlap\n",
    ":- q(X1,Y), q(X2,Y), X1<X2.\n",
    "% no diagonal overlaps\n",
    ":- q(X1,Y1), q(X2,Y2), n(N), X2=X1+N, Y2=Y1+N, N>0.\n",
    ":- q(X1,Y1), q(X2,Y2), n(N), X2=X1+N, Y1=Y2+N, N>0.\n",
    "'''"
   ]
  },
  {
   "cell_type": "markdown",
   "id": "a1db5ca0",
   "metadata": {},
   "source": [
    "# Solve"
   ]
  },
  {
   "cell_type": "code",
   "execution_count": null,
   "id": "e4d0b3c2",
   "metadata": {},
   "outputs": [],
   "source": [
    "asn = ASN.from_string(prog_str)"
   ]
  },
  {
   "cell_type": "code",
   "execution_count": null,
   "id": "7c628e23",
   "metadata": {},
   "outputs": [],
   "source": [
    "print(\"Solutions:\")\n",
    "\n",
    "for answer_set in asn.get_answer_sets():\n",
    "    print(\"\\t\", *answer_set)"
   ]
  },
  {
   "cell_type": "code",
   "execution_count": null,
   "id": "dc131f65",
   "metadata": {},
   "outputs": [],
   "source": []
  }
 ],
 "metadata": {
  "kernelspec": {
   "display_name": "Python 3 (ipykernel)",
   "language": "python",
   "name": "python3"
  },
  "language_info": {
   "codemirror_mode": {
    "name": "ipython",
    "version": 3
   },
   "file_extension": ".py",
   "mimetype": "text/x-python",
   "name": "python",
   "nbconvert_exporter": "python",
   "pygments_lexer": "ipython3",
   "version": "3.8.10"
  }
 },
 "nbformat": 4,
 "nbformat_minor": 5
}
