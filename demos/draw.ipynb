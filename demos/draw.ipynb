{
 "cells": [
  {
   "cell_type": "code",
   "execution_count": null,
   "id": "30f9a7ba",
   "metadata": {},
   "outputs": [],
   "source": [
    "import matplotlib.pyplot as plt\n",
    "from asn.data.reasoning_graph import ReasoningGraph\n",
    "from ground_slash.program import Program\n",
    "from ground_slash.grounding import Grounder"
   ]
  },
  {
   "cell_type": "markdown",
   "id": "553f85a8",
   "metadata": {},
   "source": [
    "### Normal rules"
   ]
  },
  {
   "cell_type": "code",
   "execution_count": null,
   "id": "06badaec",
   "metadata": {},
   "outputs": [],
   "source": [
    "# normal fact\n",
    "prog = Program.from_string(r\"\"\"\n",
    "a.\n",
    "\"\"\")\n",
    "\n",
    "ReasoningGraph(prog).draw()"
   ]
  },
  {
   "cell_type": "code",
   "execution_count": null,
   "id": "352cb72b",
   "metadata": {},
   "outputs": [],
   "source": [
    "# normal facts\n",
    "prog = Program.from_string(r\"\"\"\n",
    "a.\n",
    "b.\n",
    "\"\"\")\n",
    "\n",
    "ReasoningGraph(prog).draw()"
   ]
  },
  {
   "cell_type": "code",
   "execution_count": null,
   "id": "68d6000e",
   "metadata": {},
   "outputs": [],
   "source": [
    "# normal rule\n",
    "prog = Program.from_string(r\"\"\"\n",
    "a :- b, not c.\n",
    "\"\"\")\n",
    "\n",
    "ReasoningGraph(prog).draw()"
   ]
  },
  {
   "cell_type": "markdown",
   "id": "61af29ea",
   "metadata": {},
   "source": [
    "### Disjunctive rules"
   ]
  },
  {
   "cell_type": "code",
   "execution_count": null,
   "id": "cfa4ebbb",
   "metadata": {},
   "outputs": [],
   "source": [
    "# disjunctive fact\n",
    "prog = Program.from_string(r\"\"\"\n",
    "a | b.\n",
    "\"\"\")\n",
    "\n",
    "ReasoningGraph(prog).draw()"
   ]
  },
  {
   "cell_type": "code",
   "execution_count": null,
   "id": "adaff1ec",
   "metadata": {},
   "outputs": [],
   "source": [
    "# disjunctive rule\n",
    "prog = Program.from_string(r\"\"\"\n",
    "a | b :- c, not d.\n",
    "\"\"\")\n",
    "\n",
    "ReasoningGraph(prog).draw()"
   ]
  },
  {
   "cell_type": "markdown",
   "id": "48fdc432",
   "metadata": {},
   "source": [
    "### Constraint"
   ]
  },
  {
   "cell_type": "code",
   "execution_count": null,
   "id": "61328fdc",
   "metadata": {},
   "outputs": [],
   "source": [
    "# constraint\n",
    "prog = Program.from_string(r\"\"\"\n",
    ":- a, not b.\n",
    "\"\"\")\n",
    "\n",
    "ReasoningGraph(prog).draw()"
   ]
  },
  {
   "cell_type": "markdown",
   "id": "87041400",
   "metadata": {},
   "source": [
    "### Aggregates"
   ]
  },
  {
   "cell_type": "code",
   "execution_count": null,
   "id": "3be9100b",
   "metadata": {},
   "outputs": [],
   "source": [
    "# count aggregate\n",
    "prog = Program.from_string(r\"\"\"\n",
    "a :- #count{1;2:b;2:c,not d;2:not d;3}.\n",
    "\"\"\")\n",
    "\n",
    "ReasoningGraph(prog).draw()"
   ]
  },
  {
   "cell_type": "code",
   "execution_count": null,
   "id": "cc681e67",
   "metadata": {},
   "outputs": [],
   "source": [
    "# sum aggregate\n",
    "prog = Program.from_string(r\"\"\"\n",
    "a :- #sum{1;2:b;2:c,not d;2:not d;3}.\n",
    "\"\"\")\n",
    "\n",
    "ReasoningGraph(prog).draw()"
   ]
  },
  {
   "cell_type": "code",
   "execution_count": null,
   "id": "2f0bfac1",
   "metadata": {
    "scrolled": false
   },
   "outputs": [],
   "source": [
    "# min aggregate\n",
    "prog = Program.from_string(r\"\"\"\n",
    "a :- #min{1;2:b;2:c,not d;2:not d;3}.\n",
    "\"\"\")\n",
    "\n",
    "ReasoningGraph(prog).draw()"
   ]
  },
  {
   "cell_type": "code",
   "execution_count": null,
   "id": "b472dbbc",
   "metadata": {},
   "outputs": [],
   "source": [
    "# max aggregate\n",
    "prog = Program.from_string(r\"\"\"\n",
    "a :- #max{1;2:b;2:c,not d;2:not d;3}.\n",
    "\"\"\")\n",
    "\n",
    "ReasoningGraph(prog).draw()"
   ]
  },
  {
   "cell_type": "markdown",
   "id": "0f536e40",
   "metadata": {},
   "source": [
    "### Choice rules"
   ]
  },
  {
   "cell_type": "code",
   "execution_count": null,
   "id": "10c41604",
   "metadata": {
    "scrolled": false
   },
   "outputs": [],
   "source": [
    "# choice fact\n",
    "prog = Program.from_string(r\"\"\"\n",
    "{a;b:d;b:e,not f;b:not f;c}.\n",
    "\"\"\")\n",
    "\n",
    "ReasoningGraph(prog).draw()"
   ]
  },
  {
   "cell_type": "markdown",
   "id": "5dd45a4a",
   "metadata": {},
   "source": [
    "# Strong/classical negation"
   ]
  },
  {
   "cell_type": "code",
   "execution_count": null,
   "id": "e30059c7",
   "metadata": {},
   "outputs": [],
   "source": [
    "prog = Program.from_string(r\"\"\"\n",
    "a | b :- c.\n",
    "-a.\n",
    "\"\"\")\n",
    "\n",
    "ReasoningGraph(prog).draw()"
   ]
  },
  {
   "cell_type": "markdown",
   "id": "e228d3c7",
   "metadata": {},
   "source": [
    "# NPP rules"
   ]
  },
  {
   "cell_type": "code",
   "execution_count": null,
   "id": "2d1bf6f9",
   "metadata": {},
   "outputs": [],
   "source": [
    "# normal fact\n",
    "prog = Program.from_string(r\"\"\"\n",
    "\n",
    "img(i1).\n",
    "\n",
    "#npp(digit(i1), [0,1,2]) :- img(i1).\n",
    "\"\"\")\n",
    "\n",
    "ReasoningGraph(prog).draw()"
   ]
  },
  {
   "cell_type": "markdown",
   "id": "03551153",
   "metadata": {},
   "source": [
    "# MNIST-Addition"
   ]
  },
  {
   "cell_type": "code",
   "execution_count": null,
   "id": "4d67fd0e",
   "metadata": {},
   "outputs": [],
   "source": [
    "import matplotlib.pyplot as plt\n",
    "from asn.data.reasoning_graph import ReasoningGraph\n",
    "from ground_slash.program import Program\n",
    "from ground_slash.grounding import Grounder"
   ]
  },
  {
   "cell_type": "code",
   "execution_count": null,
   "id": "b57a8a60",
   "metadata": {},
   "outputs": [],
   "source": [
    "prog = Program.from_string(r'''\n",
    "img(i1). img(i2).\n",
    "\n",
    "#npp(digit(i1), [0,1,2]) :- img(i1).\n",
    "#npp(digit(i2), [0,1,2]) :- img(i2).\n",
    "\n",
    "addition(i1,i2,0):- digit(i1,0), digit(i2,0), i1<i2.\n",
    "addition(i1,i2,1):- digit(i1,0), digit(i2,1), i1<i2.\n",
    "addition(i1,i2,2):- digit(i1,0), digit(i2,2), i1<i2.\n",
    "\n",
    "addition(i1,i2,1):- digit(i1,1), digit(i2,0), i1<i2.\n",
    "addition(i1,i2,2):- digit(i1,1), digit(i2,1), i1<i2.\n",
    "addition(i1,i2,3):- digit(i1,1), digit(i2,2), i1<i2.\n",
    "\n",
    "addition(i1,i2,2):- digit(i1,2), digit(i2,0), i1<i2.\n",
    "addition(i1,i2,3):- digit(i1,2), digit(i2,1), i1<i2.\n",
    "addition(i1,i2,4):- digit(i1,2), digit(i2,2), i1<i2.\n",
    "\n",
    "% symmetries\n",
    "addition(i2,i1,0) :- addition(i1,i2,0).\n",
    "addition(i2,i1,1) :- addition(i1,i2,1).\n",
    "addition(i2,i1,2) :- addition(i1,i2,2).\n",
    "addition(i2,i1,3) :- addition(i1,i2,3).\n",
    "addition(i2,i1,4) :- addition(i1,i2,4).\n",
    "''')\n",
    "\n",
    "ReasoningGraph(prog).draw()#save_as=\"mnist_addition_2_0-3.svg\")"
   ]
  },
  {
   "cell_type": "code",
   "execution_count": null,
   "id": "a047ed3f",
   "metadata": {
    "scrolled": false
   },
   "outputs": [],
   "source": [
    "prog = Grounder(Program.from_string(r'''\n",
    "img(i1). img(i2).\n",
    "\n",
    "#npp(digit(X), [0,1,2,3,4,5,6,7,8,9]) :- img(X).\n",
    "\n",
    "addition(A,B,N1+N2):- digit(A,N1), digit(B,N2), A<B.\n",
    "addition(B,A,N) :- addition(A,B,N), A<B.\n",
    "''')).ground()\n",
    "\n",
    "ReasoningGraph(prog).draw(direction=\"LR\")#, save_as=\"mnist_addition_2.svg\")"
   ]
  },
  {
   "cell_type": "markdown",
   "id": "fbb0c3ab",
   "metadata": {},
   "source": [
    "# Queries"
   ]
  },
  {
   "cell_type": "code",
   "execution_count": null,
   "id": "ecd5ed3f",
   "metadata": {},
   "outputs": [],
   "source": [
    "from ground_slash.program import Constraint, Naf, PredLiteral\n",
    "\n",
    "prog = Grounder(Program.from_string(r'''\n",
    "a.b.c.d.e.\n",
    "''')).ground()\n",
    "\n",
    "rg = ReasoningGraph(prog)\n",
    "\n",
    "# :- not a.\n",
    "# :- not b.\n",
    "rg.encode_statement(\n",
    "    Constraint(Naf(PredLiteral(\"a\"))),\n",
    ")\n",
    "rg.encode_statement(\n",
    "    Constraint(Naf(PredLiteral(\"c\"))),\n",
    ")\n",
    "\n",
    "\n",
    "rg.draw(direction=\"TB\")"
   ]
  }
 ],
 "metadata": {
  "kernelspec": {
   "display_name": "Python 3 (ipykernel)",
   "language": "python",
   "name": "python3"
  },
  "language_info": {
   "codemirror_mode": {
    "name": "ipython",
    "version": 3
   },
   "file_extension": ".py",
   "mimetype": "text/x-python",
   "name": "python",
   "nbconvert_exporter": "python",
   "pygments_lexer": "ipython3",
   "version": "3.8.10"
  }
 },
 "nbformat": 4,
 "nbformat_minor": 5
}
